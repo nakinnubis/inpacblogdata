{
 "cells": [
  {
   "cell_type": "code",
   "execution_count": null,
   "metadata": {},
   "outputs": [],
   "source": [
    "%pip install tensorflow\n",
    "%pip install keras\n",
    "%pip3 install torch torchvision torchaudio\n",
    "\n",
    "%pip install git+https://github.com/UBC-NLP/EmoNet.git"
   ]
  },
  {
   "cell_type": "markdown",
   "metadata": {},
   "source": []
  },
  {
   "cell_type": "code",
   "execution_count": null,
   "metadata": {},
   "outputs": [],
   "source": [
    "from emonet import EmoNet\n",
    "\n",
    "em = EmoNet()\n",
    "\n",
    "# predict a text language and returning the distribution over all languages\n",
    "prediction = em.predict(text='Spectacular day in Brisbane today. Perfect for sitting in the sun and thinking up big ideas and resetting plans.', with_dist=True)\n",
    "print(\"Predict a text and display the distribution:\")\n",
    "print(prediction)\n",
    "\n",
    "# Predict text in a tsv file line by line\n",
    "predictions = em.predict(path=path_to_tsv_file)\n",
    "print(\"Predict a text file line by line:\")\n",
    "print(predictions)"
   ]
  }
 ],
 "metadata": {
  "kernelspec": {
   "display_name": "Python 3.10.4 64-bit",
   "language": "python",
   "name": "python3"
  },
  "language_info": {
   "name": "python",
   "version": "3.10.4"
  },
  "orig_nbformat": 4,
  "vscode": {
   "interpreter": {
    "hash": "369f2c481f4da34e4445cda3fffd2e751bd1c4d706f27375911949ba6bb62e1c"
   }
  }
 },
 "nbformat": 4,
 "nbformat_minor": 2
}
