{
 "cells": [
  {
   "cell_type": "markdown",
   "metadata": {},
   "source": [
    "# Blog Text-Classification using Logistic Regression"
   ]
  },
  {
   "cell_type": "code",
   "execution_count": 1,
   "metadata": {},
   "outputs": [],
   "source": [
    "# This Python 3 environment comes with many helpful analytics libraries installed\n",
    "# It is defined by the kaggle/python docker image: https://github.com/kaggle/docker-python\n",
    "# For example, here's several helpful packages to load in \n",
    "\n",
    "import numpy as np # linear algebra\n",
    "import pandas as pd # data processing, CSV file I/O (e.g. pd.read_csv)\n",
    "\n",
    "# Input data files are available in the \"../input/\" directory.\n",
    "# For example, running this (by clicking run or pressing Shift+Enter) will list the files in the input directory\n",
    "\n",
    "import os\n",
    "\n",
    "# Any results you write to the current directory are saved as output."
   ]
  },
  {
   "cell_type": "code",
   "execution_count": 2,
   "metadata": {},
   "outputs": [
    {
     "name": "stderr",
     "output_type": "stream",
     "text": [
      "[nltk_data] Downloading package stopwords to\n",
      "[nltk_data]     C:\\Users\\asakinnubi\\AppData\\Roaming\\nltk_data...\n",
      "[nltk_data]   Package stopwords is already up-to-date!\n"
     ]
    }
   ],
   "source": [
    "import re\n",
    "import matplotlib.pyplot as plt\n",
    "from nltk.corpus import stopwords\n",
    "from nltk.stem import PorterStemmer\n",
    "from sklearn.feature_extraction.text import TfidfVectorizer\n",
    "from sklearn.pipeline import Pipeline\n",
    "from sklearn.metrics import classification_report, confusion_matrix\n",
    "from sklearn.model_selection import train_test_split\n",
    "from sklearn.feature_selection import SelectKBest, chi2\n",
    "from sqlite3 import Error\n",
    "from sklearn.ensemble import RandomForestClassifier\n",
    "import sqlite3\n",
    "import pickle\n",
    "import nltk\n",
    "nltk.download('stopwords')\n",
    "%matplotlib inline"
   ]
  },
  {
   "cell_type": "code",
   "execution_count": 12,
   "metadata": {},
   "outputs": [
    {
     "data": {
      "text/html": [
       "<div>\n",
       "<style scoped>\n",
       "    .dataframe tbody tr th:only-of-type {\n",
       "        vertical-align: middle;\n",
       "    }\n",
       "\n",
       "    .dataframe tbody tr th {\n",
       "        vertical-align: top;\n",
       "    }\n",
       "\n",
       "    .dataframe thead th {\n",
       "        text-align: right;\n",
       "    }\n",
       "</style>\n",
       "<table border=\"1\" class=\"dataframe\">\n",
       "  <thead>\n",
       "    <tr style=\"text-align: right;\">\n",
       "      <th></th>\n",
       "      <th>Unnamed: 0.1</th>\n",
       "      <th>Unnamed: 0</th>\n",
       "      <th>blogpost_id</th>\n",
       "      <th>title</th>\n",
       "      <th>date</th>\n",
       "      <th>blogger</th>\n",
       "      <th>tags</th>\n",
       "      <th>sentiment</th>\n",
       "      <th>location</th>\n",
       "      <th>blog_post_processed</th>\n",
       "      <th>emotion</th>\n",
       "      <th>emotions_score</th>\n",
       "    </tr>\n",
       "  </thead>\n",
       "  <tbody>\n",
       "    <tr>\n",
       "      <th>0</th>\n",
       "      <td>0</td>\n",
       "      <td>0</td>\n",
       "      <td>1</td>\n",
       "      <td>Ukraine and the ‘New Cold War: The Return of N...</td>\n",
       "      <td>2014-06-04 00:00:00</td>\n",
       "      <td>Matt Finucane</td>\n",
       "      <td>Crimea, EU, Finland, Hungary, IMF, Neutralism,...</td>\n",
       "      <td>-0.353554</td>\n",
       "      <td>ES</td>\n",
       "      <td>whether the crimean crisis heralds a new era o...</td>\n",
       "      <td>fear</td>\n",
       "      <td>0.340458</td>\n",
       "    </tr>\n",
       "    <tr>\n",
       "      <th>1</th>\n",
       "      <td>1</td>\n",
       "      <td>1</td>\n",
       "      <td>2</td>\n",
       "      <td>Guest Post: China and the Crimea Conundrum</td>\n",
       "      <td>2014-03-12 00:00:00</td>\n",
       "      <td>Matt Finucane</td>\n",
       "      <td>China, Crimea, Putin, Russia, Tibet, Uighurs, ...</td>\n",
       "      <td>-0.177808</td>\n",
       "      <td>ES</td>\n",
       "      <td>with the eu-us alliance’s imposition of heavy ...</td>\n",
       "      <td>fear</td>\n",
       "      <td>0.344225</td>\n",
       "    </tr>\n",
       "    <tr>\n",
       "      <th>2</th>\n",
       "      <td>2</td>\n",
       "      <td>2</td>\n",
       "      <td>3</td>\n",
       "      <td>Power vs. Interest: Ukraine’s Dwindling Options</td>\n",
       "      <td>2014-03-02 00:00:00</td>\n",
       "      <td>Matt Finucane</td>\n",
       "      <td>Crimea, Euromaidan, Invasion, Lithuania, NATO,...</td>\n",
       "      <td>-0.175542</td>\n",
       "      <td>ES</td>\n",
       "      <td>predictions regarding ukraine’s future followi...</td>\n",
       "      <td>fear</td>\n",
       "      <td>0.438030</td>\n",
       "    </tr>\n",
       "    <tr>\n",
       "      <th>3</th>\n",
       "      <td>3</td>\n",
       "      <td>3</td>\n",
       "      <td>4</td>\n",
       "      <td>Hanging in the Balance: Ukraine’s Russian Repu...</td>\n",
       "      <td>2014-03-01 00:00:00</td>\n",
       "      <td>Matt Finucane</td>\n",
       "      <td>Crimea, EU, Euromaidan, Invasion, NATO, Putin,...</td>\n",
       "      <td>-0.212766</td>\n",
       "      <td>ES</td>\n",
       "      <td>over the past four or so months ukraine has wi...</td>\n",
       "      <td>disgust</td>\n",
       "      <td>0.902291</td>\n",
       "    </tr>\n",
       "    <tr>\n",
       "      <th>4</th>\n",
       "      <td>4</td>\n",
       "      <td>4</td>\n",
       "      <td>5</td>\n",
       "      <td>Two Very Different Wars on Terrorism: How the ...</td>\n",
       "      <td>2014-02-03 00:00:00</td>\n",
       "      <td>Matt Finucane</td>\n",
       "      <td>Afghanistan, bombings, Chechnya, Doku Umarov, ...</td>\n",
       "      <td>-0.197037</td>\n",
       "      <td>ES</td>\n",
       "      <td>on the 29th of december at 12:40 moscow time a...</td>\n",
       "      <td>anticipation</td>\n",
       "      <td>0.461333</td>\n",
       "    </tr>\n",
       "  </tbody>\n",
       "</table>\n",
       "</div>"
      ],
      "text/plain": [
       "   Unnamed: 0.1  Unnamed: 0  blogpost_id  \\\n",
       "0             0           0            1   \n",
       "1             1           1            2   \n",
       "2             2           2            3   \n",
       "3             3           3            4   \n",
       "4             4           4            5   \n",
       "\n",
       "                                               title                 date  \\\n",
       "0  Ukraine and the ‘New Cold War: The Return of N...  2014-06-04 00:00:00   \n",
       "1         Guest Post: China and the Crimea Conundrum  2014-03-12 00:00:00   \n",
       "2    Power vs. Interest: Ukraine’s Dwindling Options  2014-03-02 00:00:00   \n",
       "3  Hanging in the Balance: Ukraine’s Russian Repu...  2014-03-01 00:00:00   \n",
       "4  Two Very Different Wars on Terrorism: How the ...  2014-02-03 00:00:00   \n",
       "\n",
       "         blogger                                               tags  \\\n",
       "0  Matt Finucane  Crimea, EU, Finland, Hungary, IMF, Neutralism,...   \n",
       "1  Matt Finucane  China, Crimea, Putin, Russia, Tibet, Uighurs, ...   \n",
       "2  Matt Finucane  Crimea, Euromaidan, Invasion, Lithuania, NATO,...   \n",
       "3  Matt Finucane  Crimea, EU, Euromaidan, Invasion, NATO, Putin,...   \n",
       "4  Matt Finucane  Afghanistan, bombings, Chechnya, Doku Umarov, ...   \n",
       "\n",
       "   sentiment location                                blog_post_processed  \\\n",
       "0  -0.353554       ES  whether the crimean crisis heralds a new era o...   \n",
       "1  -0.177808       ES  with the eu-us alliance’s imposition of heavy ...   \n",
       "2  -0.175542       ES  predictions regarding ukraine’s future followi...   \n",
       "3  -0.212766       ES  over the past four or so months ukraine has wi...   \n",
       "4  -0.197037       ES  on the 29th of december at 12:40 moscow time a...   \n",
       "\n",
       "        emotion  emotions_score  \n",
       "0          fear        0.340458  \n",
       "1          fear        0.344225  \n",
       "2          fear        0.438030  \n",
       "3       disgust        0.902291  \n",
       "4  anticipation        0.461333  "
      ]
     },
     "execution_count": 12,
     "metadata": {},
     "output_type": "execute_result"
    }
   ],
   "source": [
    "dataset = pd.read_csv('../data/Indo-pacific-processed-post-emotions.csv')\n",
    "dataset.head()"
   ]
  },
  {
   "cell_type": "code",
   "execution_count": 13,
   "metadata": {},
   "outputs": [],
   "source": [
    "dataset = dataset.drop(columns=['Unnamed: 0.1', 'Unnamed: 0'], axis=1)"
   ]
  },
  {
   "cell_type": "code",
   "execution_count": 18,
   "metadata": {},
   "outputs": [
    {
     "data": {
      "image/png": "[encoded data removed]",
      "text/plain": [
       "<Figure size 432x288 with 1 Axes>"
      ]
     },
     "metadata": {
      "needs_background": "light"
     },
     "output_type": "display_data"
    }
   ],
   "source": [
    "dataset.groupby('emotion').emotions_score.plot.bar(ylim=0)\n",
    "plt.show()"
   ]
  },
  {
   "cell_type": "code",
   "execution_count": 19,
   "metadata": {},
   "outputs": [
    {
     "name": "stderr",
     "output_type": "stream",
     "text": [
      "[nltk_data] Downloading package stopwords to\n",
      "[nltk_data]     C:\\Users\\asakinnubi\\AppData\\Roaming\\nltk_data...\n",
      "[nltk_data]   Package stopwords is already up-to-date!\n"
     ]
    }
   ],
   "source": [
    "nltk.download('stopwords')\n",
    "stemmer = PorterStemmer()\n",
    "words = stopwords.words(\"english\")\n",
    "dataset['cleaned'] = dataset['blog_post_processed'].apply(lambda x: \" \".join([stemmer.stem(i) for i in re.sub(\"[^a-zA-Z]\", \" \", x).split() if i not in words]).lower())"
   ]
  },
  {
   "cell_type": "code",
   "execution_count": 20,
   "metadata": {},
   "outputs": [
    {
     "data": {
      "text/html": [
       "<div>\n",
       "<style scoped>\n",
       "    .dataframe tbody tr th:only-of-type {\n",
       "        vertical-align: middle;\n",
       "    }\n",
       "\n",
       "    .dataframe tbody tr th {\n",
       "        vertical-align: top;\n",
       "    }\n",
       "\n",
       "    .dataframe thead th {\n",
       "        text-align: right;\n",
       "    }\n",
       "</style>\n",
       "<table border=\"1\" class=\"dataframe\">\n",
       "  <thead>\n",
       "    <tr style=\"text-align: right;\">\n",
       "      <th></th>\n",
       "      <th>blogpost_id</th>\n",
       "      <th>title</th>\n",
       "      <th>date</th>\n",
       "      <th>blogger</th>\n",
       "      <th>tags</th>\n",
       "      <th>sentiment</th>\n",
       "      <th>location</th>\n",
       "      <th>blog_post_processed</th>\n",
       "      <th>emotion</th>\n",
       "      <th>emotions_score</th>\n",
       "      <th>cleaned</th>\n",
       "    </tr>\n",
       "  </thead>\n",
       "  <tbody>\n",
       "    <tr>\n",
       "      <th>0</th>\n",
       "      <td>1</td>\n",
       "      <td>Ukraine and the ‘New Cold War: The Return of N...</td>\n",
       "      <td>2014-06-04 00:00:00</td>\n",
       "      <td>Matt Finucane</td>\n",
       "      <td>Crimea, EU, Finland, Hungary, IMF, Neutralism,...</td>\n",
       "      <td>-0.353554</td>\n",
       "      <td>ES</td>\n",
       "      <td>whether the crimean crisis heralds a new era o...</td>\n",
       "      <td>fear</td>\n",
       "      <td>0.340458</td>\n",
       "      <td>whether crimean crisi herald new era intern re...</td>\n",
       "    </tr>\n",
       "    <tr>\n",
       "      <th>1</th>\n",
       "      <td>2</td>\n",
       "      <td>Guest Post: China and the Crimea Conundrum</td>\n",
       "      <td>2014-03-12 00:00:00</td>\n",
       "      <td>Matt Finucane</td>\n",
       "      <td>China, Crimea, Putin, Russia, Tibet, Uighurs, ...</td>\n",
       "      <td>-0.177808</td>\n",
       "      <td>ES</td>\n",
       "      <td>with the eu-us alliance’s imposition of heavy ...</td>\n",
       "      <td>fear</td>\n",
       "      <td>0.344225</td>\n",
       "      <td>eu us allianc imposit heavi sanction russia de...</td>\n",
       "    </tr>\n",
       "    <tr>\n",
       "      <th>2</th>\n",
       "      <td>3</td>\n",
       "      <td>Power vs. Interest: Ukraine’s Dwindling Options</td>\n",
       "      <td>2014-03-02 00:00:00</td>\n",
       "      <td>Matt Finucane</td>\n",
       "      <td>Crimea, Euromaidan, Invasion, Lithuania, NATO,...</td>\n",
       "      <td>-0.175542</td>\n",
       "      <td>ES</td>\n",
       "      <td>predictions regarding ukraine’s future followi...</td>\n",
       "      <td>fear</td>\n",
       "      <td>0.438030</td>\n",
       "      <td>predict regard ukrain futur follow russian inv...</td>\n",
       "    </tr>\n",
       "    <tr>\n",
       "      <th>3</th>\n",
       "      <td>4</td>\n",
       "      <td>Hanging in the Balance: Ukraine’s Russian Repu...</td>\n",
       "      <td>2014-03-01 00:00:00</td>\n",
       "      <td>Matt Finucane</td>\n",
       "      <td>Crimea, EU, Euromaidan, Invasion, NATO, Putin,...</td>\n",
       "      <td>-0.212766</td>\n",
       "      <td>ES</td>\n",
       "      <td>over the past four or so months ukraine has wi...</td>\n",
       "      <td>disgust</td>\n",
       "      <td>0.902291</td>\n",
       "      <td>past four month ukrain wit protest riot dwarf ...</td>\n",
       "    </tr>\n",
       "    <tr>\n",
       "      <th>4</th>\n",
       "      <td>5</td>\n",
       "      <td>Two Very Different Wars on Terrorism: How the ...</td>\n",
       "      <td>2014-02-03 00:00:00</td>\n",
       "      <td>Matt Finucane</td>\n",
       "      <td>Afghanistan, bombings, Chechnya, Doku Umarov, ...</td>\n",
       "      <td>-0.197037</td>\n",
       "      <td>ES</td>\n",
       "      <td>on the 29th of december at 12:40 moscow time a...</td>\n",
       "      <td>anticipation</td>\n",
       "      <td>0.461333</td>\n",
       "      <td>th decemb moscow time explos gut entranc volgo...</td>\n",
       "    </tr>\n",
       "  </tbody>\n",
       "</table>\n",
       "</div>"
      ],
      "text/plain": [
       "   blogpost_id                                              title  \\\n",
       "0            1  Ukraine and the ‘New Cold War: The Return of N...   \n",
       "1            2         Guest Post: China and the Crimea Conundrum   \n",
       "2            3    Power vs. Interest: Ukraine’s Dwindling Options   \n",
       "3            4  Hanging in the Balance: Ukraine’s Russian Repu...   \n",
       "4            5  Two Very Different Wars on Terrorism: How the ...   \n",
       "\n",
       "                  date        blogger  \\\n",
       "0  2014-06-04 00:00:00  Matt Finucane   \n",
       "1  2014-03-12 00:00:00  Matt Finucane   \n",
       "2  2014-03-02 00:00:00  Matt Finucane   \n",
       "3  2014-03-01 00:00:00  Matt Finucane   \n",
       "4  2014-02-03 00:00:00  Matt Finucane   \n",
       "\n",
       "                                                tags  sentiment location  \\\n",
       "0  Crimea, EU, Finland, Hungary, IMF, Neutralism,...  -0.353554       ES   \n",
       "1  China, Crimea, Putin, Russia, Tibet, Uighurs, ...  -0.177808       ES   \n",
       "2  Crimea, Euromaidan, Invasion, Lithuania, NATO,...  -0.175542       ES   \n",
       "3  Crimea, EU, Euromaidan, Invasion, NATO, Putin,...  -0.212766       ES   \n",
       "4  Afghanistan, bombings, Chechnya, Doku Umarov, ...  -0.197037       ES   \n",
       "\n",
       "                                 blog_post_processed       emotion  \\\n",
       "0  whether the crimean crisis heralds a new era o...          fear   \n",
       "1  with the eu-us alliance’s imposition of heavy ...          fear   \n",
       "2  predictions regarding ukraine’s future followi...          fear   \n",
       "3  over the past four or so months ukraine has wi...       disgust   \n",
       "4  on the 29th of december at 12:40 moscow time a...  anticipation   \n",
       "\n",
       "   emotions_score                                            cleaned  \n",
       "0        0.340458  whether crimean crisi herald new era intern re...  \n",
       "1        0.344225  eu us allianc imposit heavi sanction russia de...  \n",
       "2        0.438030  predict regard ukrain futur follow russian inv...  \n",
       "3        0.902291  past four month ukrain wit protest riot dwarf ...  \n",
       "4        0.461333  th decemb moscow time explos gut entranc volgo...  "
      ]
     },
     "execution_count": 20,
     "metadata": {},
     "output_type": "execute_result"
    }
   ],
   "source": [
    "dataset.head()"
   ]
  },
  {
   "cell_type": "code",
   "execution_count": 21,
   "metadata": {},
   "outputs": [
    {
     "data": {
      "text/plain": [
       "(200, 3052)"
      ]
     },
     "execution_count": 21,
     "metadata": {},
     "output_type": "execute_result"
    }
   ],
   "source": [
    "vectorizer = TfidfVectorizer(min_df= 3, stop_words=\"english\", sublinear_tf=True, norm='l2', ngram_range=(1, 2))\n",
    "final_features = vectorizer.fit_transform(dataset['cleaned']).toarray()\n",
    "final_features.shape"
   ]
  },
  {
   "cell_type": "code",
   "execution_count": 23,
   "metadata": {},
   "outputs": [
    {
     "name": "stderr",
     "output_type": "stream",
     "text": [
      "C:\\Users\\asakinnubi\\AppData\\Roaming\\Python\\Python310\\site-packages\\sklearn\\metrics\\_classification.py:1327: UndefinedMetricWarning: Precision and F-score are ill-defined and being set to 0.0 in labels with no predicted samples. Use `zero_division` parameter to control this behavior.\n",
      "  _warn_prf(average, modifier, msg_start, len(result))\n",
      "C:\\Users\\asakinnubi\\AppData\\Roaming\\Python\\Python310\\site-packages\\sklearn\\metrics\\_classification.py:1327: UndefinedMetricWarning: Precision and F-score are ill-defined and being set to 0.0 in labels with no predicted samples. Use `zero_division` parameter to control this behavior.\n",
      "  _warn_prf(average, modifier, msg_start, len(result))\n",
      "C:\\Users\\asakinnubi\\AppData\\Roaming\\Python\\Python310\\site-packages\\sklearn\\metrics\\_classification.py:1327: UndefinedMetricWarning: Precision and F-score are ill-defined and being set to 0.0 in labels with no predicted samples. Use `zero_division` parameter to control this behavior.\n",
      "  _warn_prf(average, modifier, msg_start, len(result))\n",
      "C:\\Users\\asakinnubi\\AppData\\Roaming\\Python\\Python310\\site-packages\\sklearn\\utils\\deprecation.py:87: FutureWarning: Function plot_confusion_matrix is deprecated; Function `plot_confusion_matrix` is deprecated in 1.0 and will be removed in 1.2. Use one of the class methods: ConfusionMatrixDisplay.from_predictions or ConfusionMatrixDisplay.from_estimator.\n",
      "  warnings.warn(msg, category=FutureWarning)\n"
     ]
    },
    {
     "name": "stdout",
     "output_type": "stream",
     "text": [
      "              precision    recall  f1-score   support\n",
      "\n",
      "       anger       0.00      0.00      0.00         3\n",
      "anticipation       0.00      0.00      0.00        10\n",
      "     disgust       0.00      0.00      0.00         1\n",
      "        fear       0.00      0.00      0.00         8\n",
      "         joy       0.52      1.00      0.68        26\n",
      "     sadness       0.00      0.00      0.00         1\n",
      "    surprise       0.00      0.00      0.00         1\n",
      "\n",
      "    accuracy                           0.52        50\n",
      "   macro avg       0.07      0.14      0.10        50\n",
      "weighted avg       0.27      0.52      0.36        50\n",
      "\n",
      "[[ 0  0  0  0  3  0  0]\n",
      " [ 0  0  0  0 10  0  0]\n",
      " [ 0  0  0  0  1  0  0]\n",
      " [ 0  0  0  0  8  0  0]\n",
      " [ 0  0  0  0 26  0  0]\n",
      " [ 0  0  0  0  1  0  0]\n",
      " [ 0  0  0  0  1  0  0]]\n"
     ]
    },
    {
     "data": {
      "image/png": "[encoded data removed]",
      "text/plain": [
       "<Figure size 432x288 with 2 Axes>"
      ]
     },
     "metadata": {
      "needs_background": "light"
     },
     "output_type": "display_data"
    }
   ],
   "source": [
    "from sklearn.linear_model import LogisticRegression\n",
    "import matplotlib.pyplot as plt\n",
    "from sklearn.datasets import make_classification\n",
    "from sklearn.metrics import plot_confusion_matrix\n",
    "from sklearn.model_selection import train_test_split\n",
    "from sklearn.svm import SVC\n",
    "X = dataset['cleaned']\n",
    "Y = dataset['emotion']\n",
    "X_train, X_test, y_train, y_test = train_test_split(X, Y, test_size=0.25)\n",
    "\n",
    "pipeline = Pipeline([('vect', vectorizer),\n",
    "                     ('chi',  SelectKBest(chi2, k=1200)),\n",
    "                     ('clf', LogisticRegression(random_state=0))])\n",
    "\n",
    "model = pipeline.fit(X_train, y_train)\n",
    "with open('LogisticRegression.pickle', 'wb') as f:\n",
    "    pickle.dump(model, f)\n",
    "\n",
    "ytest = np.array(y_test)\n",
    "\n",
    "# confusion matrix and classification report(precision, recall, F1-score)\n",
    "print(classification_report(ytest, model.predict(X_test)))\n",
    "print(confusion_matrix(ytest, model.predict(X_test)))\n",
    "plot_confusion_matrix(model, X_test, ytest)  \n",
    "plt.show()"
   ]
  }
 ],
 "metadata": {
  "kernelspec": {
   "display_name": "Python 3.10.4 64-bit",
   "language": "python",
   "name": "python3"
  },
  "language_info": {
   "codemirror_mode": {
    "name": "ipython",
    "version": 3
   },
   "file_extension": ".py",
   "mimetype": "text/x-python",
   "name": "python",
   "nbconvert_exporter": "python",
   "pygments_lexer": "ipython3",
   "version": "3.10.4"
  },
  "orig_nbformat": 4,
  "vscode": {
   "interpreter": {
    "hash": "369f2c481f4da34e4445cda3fffd2e751bd1c4d706f27375911949ba6bb62e1c"
   }
  }
 },
 "nbformat": 4,
 "nbformat_minor": 2
}
